{
 "cells": [
  {
   "cell_type": "code",
   "execution_count": 1,
   "metadata": {
    "collapsed": true
   },
   "outputs": [],
   "source": [
    "import pandas as pd\n",
    "import requests\n",
    "from bs4 import BeautifulSoup"
   ]
  },
  {
   "cell_type": "code",
   "execution_count": 46,
   "metadata": {
    "collapsed": true
   },
   "outputs": [],
   "source": [
    "url = \"https://en.wikipedia.org/wiki/List_of_companies_based_in_New_York_City\"\n",
    "str_wiki = 'https://en.wikipedia.org/'"
   ]
  },
  {
   "cell_type": "code",
   "execution_count": 23,
   "metadata": {
    "collapsed": true
   },
   "outputs": [],
   "source": [
    "page = requests.get(url)\n",
    "if (page.status_code == 200):\n",
    "    html_text = BeautifulSoup(page.text, \"html.parser\")\n",
    "    "
   ]
  },
  {
   "cell_type": "code",
   "execution_count": 63,
   "metadata": {
    "collapsed": true
   },
   "outputs": [],
   "source": [
    "exp = (html_text.find_all('table')[0].find_all('tr'))"
   ]
  },
  {
   "cell_type": "code",
   "execution_count": 128,
   "metadata": {
    "collapsed": false
   },
   "outputs": [
    {
     "ename": "SyntaxError",
     "evalue": "unexpected EOF while parsing (<ipython-input-128-2f60ec0962b4>, line 36)",
     "output_type": "error",
     "traceback": [
      "\u001b[0;36m  File \u001b[0;32m\"<ipython-input-128-2f60ec0962b4>\"\u001b[0;36m, line \u001b[0;32m36\u001b[0m\n\u001b[0;31m    \u001b[0m\n\u001b[0m    ^\u001b[0m\n\u001b[0;31mSyntaxError\u001b[0m\u001b[0;31m:\u001b[0m unexpected EOF while parsing\n"
     ]
    }
   ],
   "source": [
    "def extract_wiki_info(DOM_component):\n",
    "    exp = DOM_component\n",
    "    link = []\n",
    "    company_name = []\n",
    "    industry = []\n",
    "    \n",
    "    \n",
    "    try: \n",
    "        cols = [exp[0].find_all('th')[0].text.replace('\\n',''), exp[0].find_all('th')[1].text.replace('\\n','')]\n",
    "        print (cols)\n",
    "        for i in range(1, len(exp)):\n",
    "            print (i)\n",
    "            #print (exp[i].find_all('td')[0].find('a')['title'])\n",
    "            if exp[i].find_all('td')[0].find('a') is not None:\n",
    "                if exp[i].find_all('td')[0].find('a')['href'] is not None or len(exp[i].find_all('td')[0].find('a')['href'])>0:\n",
    "                    link.append(str_wiki + exp[i].find_all('td')[0].find('a')['href'])\n",
    "                else:\n",
    "                    link.append('')\n",
    "\n",
    "                if exp[i].find_all('td')[0].find('a')['title'] is not None and len(exp[i].find_all('td')[0].find('a')['title'])>0:\n",
    "                    company_name.append(exp[i].find_all('td')[0].find('a')['title'])\n",
    "            else:\n",
    "                company_name.append(exp[i].find_all('td')[0].text)\n",
    "                link.append('')\n",
    "\n",
    "            if exp[i].find_all('td')[1].text.replace('\\n','') is not None and len(exp[i].find_all('td')[1].text.replace('\\n',''))>0:\n",
    "                industry.append(exp[1].find_all('td')[1].text.replace('\\n',''))\n",
    "            else:\n",
    "                industry.append('')\n",
    "                \n",
    "        return link, company_name, industry\n",
    "    \n",
    "    except Exception as exception:\n",
    "        print ('\\t Exception in extraction :: {}'.format(url)\n",
    "\n",
    "    "
   ]
  },
  {
   "cell_type": "code",
   "execution_count": 110,
   "metadata": {
    "collapsed": false
   },
   "outputs": [
    {
     "data": {
      "text/plain": [
       "286"
      ]
     },
     "execution_count": 110,
     "metadata": {},
     "output_type": "execute_result"
    }
   ],
   "source": [
    "len(link)"
   ]
  },
  {
   "cell_type": "code",
   "execution_count": 111,
   "metadata": {
    "collapsed": false
   },
   "outputs": [
    {
     "data": {
      "text/plain": [
       "287"
      ]
     },
     "execution_count": 111,
     "metadata": {},
     "output_type": "execute_result"
    }
   ],
   "source": [
    "len(exp)"
   ]
  },
  {
   "cell_type": "code",
   "execution_count": null,
   "metadata": {
    "collapsed": true
   },
   "outputs": [],
   "source": []
  }
 ],
 "metadata": {
  "kernelspec": {
   "display_name": "Python [Root]",
   "language": "python",
   "name": "Python [Root]"
  },
  "language_info": {
   "codemirror_mode": {
    "name": "ipython",
    "version": 3
   },
   "file_extension": ".py",
   "mimetype": "text/x-python",
   "name": "python",
   "nbconvert_exporter": "python",
   "pygments_lexer": "ipython3",
   "version": "3.5.2"
  }
 },
 "nbformat": 4,
 "nbformat_minor": 2
}
